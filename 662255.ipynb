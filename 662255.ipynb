{
 "cells": [
  {
   "cell_type": "code",
   "execution_count": 1,
   "metadata": {},
   "outputs": [
    {
     "name": "stdout",
     "output_type": "stream",
     "text": [
      "Requirement already satisfied: requests in c:\\users\\vicky\\appdata\\local\\programs\\python\\python312\\lib\\site-packages (2.32.3)\n",
      "Requirement already satisfied: charset-normalizer<4,>=2 in c:\\users\\vicky\\appdata\\local\\programs\\python\\python312\\lib\\site-packages (from requests) (3.3.2)\n",
      "Requirement already satisfied: idna<4,>=2.5 in c:\\users\\vicky\\appdata\\local\\programs\\python\\python312\\lib\\site-packages (from requests) (3.7)\n",
      "Requirement already satisfied: urllib3<3,>=1.21.1 in c:\\users\\vicky\\appdata\\local\\programs\\python\\python312\\lib\\site-packages (from requests) (2.2.2)\n",
      "Requirement already satisfied: certifi>=2017.4.17 in c:\\users\\vicky\\appdata\\local\\programs\\python\\python312\\lib\\site-packages (from requests) (2024.6.2)\n",
      "Note: you may need to restart the kernel to use updated packages.\n"
     ]
    },
    {
     "name": "stderr",
     "output_type": "stream",
     "text": [
      "\n",
      "[notice] A new release of pip is available: 24.0 -> 24.1\n",
      "[notice] To update, run: python.exe -m pip install --upgrade pip\n"
     ]
    }
   ],
   "source": [
    "pip install requests "
   ]
  },
  {
   "cell_type": "code",
   "execution_count": 5,
   "metadata": {},
   "outputs": [
    {
     "name": "stdout",
     "output_type": "stream",
     "text": [
      "Note: you may need to restart the kernel to use updated packages.Collecting pyodbc\n",
      "  Downloading pyodbc-5.1.0-cp312-cp312-win_amd64.whl.metadata (2.8 kB)\n",
      "Downloading pyodbc-5.1.0-cp312-cp312-win_amd64.whl (69 kB)\n",
      "   ---------------------------------------- 0.0/69.3 kB ? eta -:--:--\n",
      "   ----- ---------------------------------- 10.2/69.3 kB ? eta -:--:--\n",
      "   ----- ---------------------------------- 10.2/69.3 kB ? eta -:--:--\n",
      "   ----------- ---------------------------- 20.5/69.3 kB 108.9 kB/s eta 0:00:01\n",
      "   ----------------- ---------------------- 30.7/69.3 kB 131.3 kB/s eta 0:00:01\n",
      "   ----------------------- ---------------- 41.0/69.3 kB 140.3 kB/s eta 0:00:01\n",
      "   ----------------------------------- ---- 61.4/69.3 kB 182.2 kB/s eta 0:00:01\n",
      "   ----------------------------------- ---- 61.4/69.3 kB 182.2 kB/s eta 0:00:01\n",
      "   ----------------------------------- ---- 61.4/69.3 kB 182.2 kB/s eta 0:00:01\n",
      "   ---------------------------------------- 69.3/69.3 kB 145.4 kB/s eta 0:00:00\n",
      "Installing collected packages: pyodbc\n",
      "Successfully installed pyodbc-5.1.0\n",
      "\n"
     ]
    },
    {
     "name": "stderr",
     "output_type": "stream",
     "text": [
      "\n",
      "[notice] A new release of pip is available: 24.0 -> 24.1\n",
      "[notice] To update, run: python.exe -m pip install --upgrade pip\n"
     ]
    }
   ],
   "source": [
    "pip install pyodbc"
   ]
  },
  {
   "cell_type": "code",
   "execution_count": 24,
   "metadata": {},
   "outputs": [],
   "source": [
    "import requests\n",
    "from bs4 import BeautifulSoup\n",
    "\n",
    "url=\"https://sheethub.com/data.gov.tw/%E6%A8%B9%E6%9C%A8%E7%97%85%E8%9F%B2%E5%AE%B3%E8%B3%87%E6%96%99?page=23\"\n",
    "r = requests.get(url)\n",
    "sp = BeautifulSoup(r.text,'html')\n",
    "datas = sp.find('',class_='')\n",
    "\n",
    "  \n",
    "import sqlite3\n",
    "conn = sqlite3.connect('fire_ant.db')\n",
    "c = conn.cursor()\n",
    "\n",
    "sql=''  \n",
    "c.execute(sql)\n",
    "#新增資料\n",
    "c.execute('')\n",
    "conn.commit()  #提交資料庫\n",
    "conn.close()"
   ]
  },
  {
   "cell_type": "code",
   "execution_count": 35,
   "metadata": {},
   "outputs": [
    {
     "name": "stdout",
     "output_type": "stream",
     "text": [
      "疫情名稱: 無褐根病, 林木種類: 樟樹, 受害縣市: 台北市, 種植數量  : 1株\n",
      "疫情名稱: 無褐根病, 林木種類: 不知名樹殘根, 受害縣市: 台北市, 種植數量  : 1株\n",
      "疫情名稱: 褐根病, 林木種類: 桃花心木, 受害縣市: 台南市, 種植數量  : \n",
      "疫情名稱: 地衣, 林木種類: 鳳凰木, 受害縣市: 南投縣, 種植數量  : 1株\n",
      "疫情名稱: 生理性老化, 林木種類: 相思樹, 受害縣市: 新北市, 種植數量  : 1株\n",
      "疫情名稱: 褐根病, 林木種類: 杜英, 受害縣市: 新北市, 種植數量  : 1株\n",
      "疫情名稱: 褐根病, 林木種類: 台灣灤樹, 受害縣市: 新北市, 種植數量  : \n",
      "疫情名稱: 立地環境不佳, 林木種類: 樟樹, 受害縣市: 彰化縣, 種植數量  : \n",
      "疫情名稱: 樟白介殼蟲, 林木種類: 樟樹, 受害縣市: 台東縣, 種植數量  : \n",
      "疫情名稱: 烏心石幹綿蚜, 林木種類: 烏心石, 受害縣市: 台東縣, 種植數量  : \n",
      "疫情名稱: 生理性落葉, 林木種類: 茄冬樹, 受害縣市: 台東縣, 種植數量  : \n",
      "疫情名稱: 褐根病, 林木種類: 鳳凰木, 受害縣市: 新北市, 種植數量  : 1株\n",
      "疫情名稱: 褐根病, 林木種類: 洋紫荊, 受害縣市: 新北市, 種植數量  : 3株\n",
      "疫情名稱: 褐根病, 林木種類: 榕樹, 受害縣市: 台北市, 種植數量  : \n",
      "疫情名稱: 不當修剪, 林木種類: 五葉松, 受害縣市: 南投縣, 種植數量  : \n",
      "疫情名稱: 水份養份不足, 林木種類: 榕樹, 受害縣市: 屏東縣, 種植數量  : 1株\n",
      "疫情名稱: 褐根病, 林木種類: 鳳凰木1, 受害縣市: 台南市, 種植數量  : \n",
      "疫情名稱: 過度修枝, 林木種類: 菩提樹, 受害縣市: 台南市, 種植數量  : \n",
      "疫情名稱: 紫膠介殼蟲, 林木種類: 小葉欖仁, 受害縣市: 台南市, 種植數量  : \n",
      "疫情名稱: 過度修枝, 林木種類: 赤松, 受害縣市: 彰化縣, 種植數量  : \n",
      "疫情名稱: 種植地點不當, 林木種類: 櫻花(八重櫻), 受害縣市: 彰化縣, 種植數量  : \n",
      "疫情名稱: 褐根病, 林木種類: 掌葉蘋婆, 受害縣市: 高雄市, 種植數量  : \n",
      "疫情名稱: 環境不適, 林木種類: 山櫻花, 受害縣市: 高雄市, 種植數量  : 1株\n",
      "疫情名稱: 褐根病, 林木種類: 榕樹, 受害縣市: 苗栗縣, 種植數量  : 2株\n",
      "疫情名稱: 不當外力, 林木種類: 七里香, 受害縣市: 苗栗縣, 種植數量  : 50株\n",
      "疫情名稱: 不當外力, 林木種類: 大王椰子, 受害縣市: 苗栗縣, 種植數量  : 20株\n",
      "疫情名稱: 生長受阻, 林木種類: 杜鵑, 受害縣市: 台中市, 種植數量  : \n",
      "疫情名稱: 生長受阻, 林木種類: 臭娘子, 受害縣市: 台中市, 種植數量  : \n",
      "疫情名稱: 排水不良, 林木種類: 樟樹, 受害縣市: 花蓮縣, 種植數量  : \n",
      "疫情名稱: 莿桐釉小蜂, 林木種類: 刺桐, 受害縣市: 花蓮縣, 種植數量  : \n",
      "疫情名稱: 花台地面固封, 林木種類: 苦楝, 受害縣市: 台北市, 種植數量  : \n",
      "疫情名稱: 褐根病, 林木種類: 鳳凰木2, 受害縣市: 台南市, 種植數量  : \n",
      "疫情名稱: 褐根病, 林木種類: 榕樹、木棉、樟樹、南洋杉等, 受害縣市: 台中市, 種植數量  : \n",
      "疫情名稱: 水泥固封, 林木種類: 榕樹, 受害縣市: 台南市, 種植數量  : \n",
      "疫情名稱: 白蟻, 林木種類: 南洋杉, 受害縣市: 高雄市, 種植數量  : 120株\n",
      "疫情名稱: 癌腫病, 林木種類: 土密樹, 受害縣市: 台東縣, 種植數量  : \n",
      "疫情名稱: 水份養份不足, 林木種類: 樟樹, 受害縣市: 桃園市, 種植數量  : 3株\n",
      "疫情名稱: 褐根病, 林木種類: 大葉桉, 受害縣市: 台北市, 種植數量  : \n",
      "疫情名稱: 獸害, 林木種類: 烏心石, 受害縣市: 宜蘭縣, 種植數量  : \n",
      "疫情名稱: 褐根病, 林木種類: 台灣欒樹, 受害縣市: 台北市, 種植數量  : 10株\n",
      "疫情名稱: 腐朽菌, 林木種類: 麒麟花, 受害縣市: 台北市, 種植數量  : 180株\n",
      "疫情名稱: 腐朽菌, 林木種類: 榕樹, 受害縣市: 新竹縣, 種植數量  : 1株\n",
      "疫情名稱: 水泥固封, 林木種類: 樟樹, 受害縣市: 花蓮縣, 種植數量  : 10株\n",
      "疫情名稱: 褐根病, 林木種類: 麵包樹, 受害縣市: 花蓮縣, 種植數量  : 1株\n",
      "疫情名稱: 褐根病, 林木種類: 台灣欒樹, 受害縣市: 花蓮縣, 種植數量  : 1株\n",
      "疫情名稱: 水泥固封, 林木種類: 樟樹第二區, 受害縣市: 花蓮縣, 種植數量  : \n",
      "疫情名稱: 樟白介殼蟲, 林木種類: 樟樹, 受害縣市: 台南市, 種植數量  : 5株\n",
      "疫情名稱: 褐根病, 林木種類: 榕樹, 受害縣市: 新竹市, 種植數量  : \n",
      "疫情名稱: 腐朽菌, 林木種類: 龍眼, 受害縣市: 新竹市, 種植數量  : \n",
      "疫情名稱: 褐根病, 林木種類: 松樹, 受害縣市: 新北市, 種植數量  : \n"
     ]
    }
   ],
   "source": [
    "import requests\n",
    "from bs4 import BeautifulSoup\n",
    "\n",
    "# 目标URL\n",
    "url = 'https://sheethub.com/data.gov.tw/%E6%A8%B9%E6%9C%A8%E7%97%85%E8%9F%B2%E5%AE%B3%E8%B3%87%E6%96%99?page=23'\n",
    "\n",
    "# 发送HTTP请求\n",
    "response = requests.get(url)\n",
    "response.raise_for_status()  # 如果请求失败，抛出异常\n",
    "\n",
    "# 使用BeautifulSoup解析HTML内容\n",
    "soup = BeautifulSoup(response.content, 'html.parser')\n",
    "\n",
    "# 提取表格数据\n",
    "table = soup.find('table')\n",
    "rows = table.find_all('tr')\n",
    "\n",
    "# 解析表格头部以确定列的索引\n",
    "headers = [th.get_text(strip=True) for th in rows[0].find_all('th')]\n",
    "epidemic_name_index = headers.index('疫情名稱')\n",
    "tree_species_index = headers.index('林木種類')\n",
    "affected_city_index = headers.index('受害縣市')\n",
    "planting_quantity_index = headers.index('種植數量')\n",
    "\n",
    "# 存储提取的数据\n",
    "data = []\n",
    "\n",
    "# 遍历表格行，提取数据\n",
    "for row in rows[1:]:  # 跳过表头\n",
    "    cols = row.find_all('td')\n",
    "    if len(cols) > max(epidemic_name_index, tree_species_index, affected_city_index, planting_quantity_index):\n",
    "        epidemic_name = cols[epidemic_name_index].get_text(strip=True)\n",
    "        tree_species = cols[tree_species_index].get_text(strip=True)\n",
    "        affected_city = cols[affected_city_index].get_text(strip=True)\n",
    "        planting_quantity = cols[planting_quantity_index].get_text(strip=True)\n",
    "        \n",
    "        data.append((epidemic_name, tree_species, affected_city, planting_quantity))\n",
    "\n",
    "# 显示数据\n",
    "for entry in data:\n",
    "    print(f'疫情名稱: {entry[0]}, 林木種類: {entry[1]}, 受害縣市: {entry[2]}, 種植數量  : {entry[3]}')"
   ]
  },
  {
   "cell_type": "code",
   "execution_count": 26,
   "metadata": {},
   "outputs": [
    {
     "name": "stderr",
     "output_type": "stream",
     "text": [
      "<>:3: SyntaxWarning: invalid escape sequence '\\M'\n",
      "<>:3: SyntaxWarning: invalid escape sequence '\\M'\n",
      "C:\\Users\\vicky\\AppData\\Local\\Temp\\ipykernel_19296\\2972653748.py:3: SyntaxWarning: invalid escape sequence '\\M'\n",
      "  'Server=LAPTOP-M8ATTO8F\\MSSQLSERVER_2019;'  #本機資料庫\n"
     ]
    }
   ],
   "source": [
    "import pyodbc  #官方文件  https://github.com/mkleehammer/pyodbc/wiki\n",
    "conn = pyodbc.connect('Driver={ODBC Driver 17 for SQL Server};' #ODBC 驅動程式管理員\n",
    "                          'Server=LAPTOP-M8ATTO8F\\MSSQLSERVER_2019;'  #本機資料庫\n",
    "                          'Database=TreePests;' \n",
    "                          'Trusted_Connection=yes;')  #連結資料庫\n",
    "#conn = pyodbc.connect('DRIVER={ODBC Driver 17 for SQL Server};SERVER=DESKTOP-3JL2ABL;DATABASE=Fju;UID=jackpan;PWD=12345678')\n",
    "#cursor = conn.cursor() ＃由連接物件新增操作物件"
   ]
  },
  {
   "cell_type": "code",
   "execution_count": 36,
   "metadata": {},
   "outputs": [
    {
     "name": "stderr",
     "output_type": "stream",
     "text": [
      "<>:5: SyntaxWarning: invalid escape sequence '\\M'\n",
      "<>:5: SyntaxWarning: invalid escape sequence '\\M'\n",
      "C:\\Users\\vicky\\AppData\\Local\\Temp\\ipykernel_19296\\3979831160.py:5: SyntaxWarning: invalid escape sequence '\\M'\n",
      "  'Server=LAPTOP-M8ATTO8F\\MSSQLSERVER_2019;'  #本機資料庫\n"
     ]
    }
   ],
   "source": [
    "import pyodbc\n",
    "\n",
    "# 连接到SQL Server\n",
    "conn = pyodbc.connect('Driver={ODBC Driver 17 for SQL Server};' #ODBC 驅動程式管理員\n",
    "                          'Server=LAPTOP-M8ATTO8F\\MSSQLSERVER_2019;'  #本機資料庫\n",
    "                          'Database=TreePests;' \n",
    "                          'Trusted_Connection=yes;')  #連結資料庫\n",
    "\n",
    "cursor = conn.cursor()\n",
    "\n",
    "# 創建表格（如果表格不存在）\n",
    "cursor.execute('''\n",
    "    IF NOT EXISTS (SELECT * FROM sysobjects WHERE name='tree' AND xtype='U')\n",
    "    CREATE TABLE tree (\n",
    "        id INT PRIMARY KEY IDENTITY(1,1),\n",
    "        epidemic_name NVARCHAR(255),\n",
    "        tree_species NVARCHAR(255),\n",
    "        affected_city NVARCHAR(255),\n",
    "        planting_quantity NVARCHAR(255)\n",
    "    )\n",
    "''')\n",
    "\n",
    "# 插入數據\n",
    "for entry in data:\n",
    "    cursor.execute('''\n",
    "                   INSERT INTO tree (epidemic_name, tree_species, affected_city, planting_quantity)\n",
    "                   VALUES (?, ?, ?, ?)\n",
    "                   ''', entry)\n",
    "\n",
    "# 提交事務\n",
    "conn.commit()\n",
    "\n",
    "# 關閉連接\n",
    "cursor.close()\n",
    "conn.close()"
   ]
  }
 ],
 "metadata": {
  "kernelspec": {
   "display_name": "Python 3",
   "language": "python",
   "name": "python3"
  },
  "language_info": {
   "codemirror_mode": {
    "name": "ipython",
    "version": 3
   },
   "file_extension": ".py",
   "mimetype": "text/x-python",
   "name": "python",
   "nbconvert_exporter": "python",
   "pygments_lexer": "ipython3",
   "version": "3.12.2"
  }
 },
 "nbformat": 4,
 "nbformat_minor": 2
}
